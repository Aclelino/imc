{
 "cells": [
  {
   "cell_type": "markdown",
   "id": "4344d9fa",
   "metadata": {},
   "source": [
    "Autor : Aclelino Damião <br>\n",
    "E-mail: aclelino@gmail.com <br>\n",
    "GitHub: https://github.com/Aclelino<br>\n",
    "\n",
    "Python 3.8.8 <br>\n",
    "\n",
    "'''<br>\n",
    "Calculadora de imc <p>\n",
    "cálculo simples que permite medir se alguém está ou não com o peso ideal. Ele aponta se o peso está adequado ou se está abaixo ou acima\n",
    "<br>\n",
    "'''"
   ]
  },
  {
   "cell_type": "code",
   "execution_count": 1,
   "id": "834af368",
   "metadata": {},
   "outputs": [],
   "source": [
    "\n",
    "from PyQt5 import uic,QtWidgets"
   ]
  },
  {
   "cell_type": "code",
   "execution_count": 2,
   "id": "0df0c2a4",
   "metadata": {},
   "outputs": [],
   "source": [
    "def acao():\n",
    "    peso =float(windows.lineKg.text())\n",
    "    altura = float(windows.lineMt.text())\n",
    "    \n",
    "    print(peso)\n",
    "    imc = peso / altura ** 2\n",
    "    #imc = str(imc)\n",
    "    resultado = windows.label_Resultado\n",
    "    inf = windows.label_Inf\n",
    "    \n",
    "    inf.setText('O seu IMC e igual a {:.2f}\\n'.format(imc))\n",
    "\n",
    "    if imc < 16:\n",
    "        resultado.setText(\"Magreza grau III😐\")\n",
    "    elif imc > 16.0 and imc < 16.9 :\n",
    "        resultado.setText(\"Magreza grau II🤨\")\n",
    "    elif imc > 17.0 and imc < 18.4 : \n",
    "        resultado.setText(\"Magreza grau I🤔\")\n",
    "    elif imc > 18.5 and imc < 24.9 :\n",
    "        resultado.setText(\"Adequado 😊\")\n",
    "    elif imc > 25.0 and imc < 29.9:\n",
    "        resultado.setText(\"Pré-obeso😏\")\n",
    "    elif imc > 30.0 and imc < 34.9 :\n",
    "        resultado.setText(\"Obesidade grau I😣\")\n",
    "    elif imc > 35.0 and imc < 39.9:\n",
    "        resultado.setText(\"Obesidade grau II😥\")\n",
    "    elif imc >=40.0:\n",
    "        resultado.setText(\"Obesidade grau III😫\")\n",
    "\n",
    "\n"
   ]
  },
  {
   "cell_type": "code",
   "execution_count": 3,
   "id": "9825db2b",
   "metadata": {},
   "outputs": [
    {
     "name": "stdout",
     "output_type": "stream",
     "text": [
      "54.0\n"
     ]
    },
    {
     "data": {
      "text/plain": [
       "0"
      ]
     },
     "execution_count": 3,
     "metadata": {},
     "output_type": "execute_result"
    }
   ],
   "source": [
    "app =QtWidgets.QApplication([])\n",
    "windows = uic.loadUi('imc.ui')\n",
    "windows.pushButton.clicked.connect(acao)\n",
    "windows.show()\n",
    "app.exec_()"
   ]
  },
  {
   "cell_type": "code",
   "execution_count": null,
   "id": "7ba5c357",
   "metadata": {},
   "outputs": [],
   "source": []
  }
 ],
 "metadata": {
  "kernelspec": {
   "display_name": "Python 3",
   "language": "python",
   "name": "python3"
  },
  "language_info": {
   "codemirror_mode": {
    "name": "ipython",
    "version": 3
   },
   "file_extension": ".py",
   "mimetype": "text/x-python",
   "name": "python",
   "nbconvert_exporter": "python",
   "pygments_lexer": "ipython3",
   "version": "3.8.8"
  }
 },
 "nbformat": 4,
 "nbformat_minor": 5
}
